{
 "cells": [
  {
   "cell_type": "markdown",
   "metadata": {},
   "source": [
    "# Survival Model \n",
    "We are determining what factors would cause a passanger on the titantic to have a probability of dying? :(\n",
    "- Variable\tDefinition\tKey\n",
    "- survival\t`Survival\t0 = No, 1 = Yes`\n",
    "- pclass\t`Ticket class\t1 = 1st, 2 = 2nd, 3 = 3rd`\n",
    "- sex\n",
    "- Age\tAge in years\t\n",
    "- sibsp`\t# of siblings / spouses aboard the Titanic\t`\n",
    "- parch`\t# of parents / children aboard the Titanic\t`\n",
    "- ticket\tTicket number\t\n",
    "- fare\tPassenger fare\t\n",
    "- cabin\tCabin number\t\n",
    "- embarked`\tPort of Embarkation\tC = Cherbourg, Q = Queenstown, S = Southampton`"
   ]
  },
  {
   "cell_type": "markdown",
   "metadata": {},
   "source": [
    "### 1. Importing the Dataset\n",
    "- We will be importing the data with pandas csv"
   ]
  },
  {
   "cell_type": "code",
   "execution_count": 2,
   "metadata": {},
   "outputs": [],
   "source": [
    "import pandas as pd\n",
    "\n",
    "data = pd.read_csv('Titanic-Dataset.csv')\n",
    "#data.fillna(data['Age'].mean(), inplace=True) #fills the row 'Age' that has no value, aka NaN, we will fill it with the mean of the column\n",
    "#print(data['Age'].mean())\n",
    "#data.isnull().sum() #this is to find the total of how many values are null"
   ]
  },
  {
   "cell_type": "markdown",
   "metadata": {},
   "source": [
    "### 2. Separating our result from our feature\n",
    "\n",
    "- We should consider what we should drop / what data is relevant that could play a factor if someone survived"
   ]
  },
  {
   "cell_type": "code",
   "execution_count": 4,
   "metadata": {},
   "outputs": [
    {
     "data": {
      "text/html": [
       "<div>\n",
       "<style scoped>\n",
       "    .dataframe tbody tr th:only-of-type {\n",
       "        vertical-align: middle;\n",
       "    }\n",
       "\n",
       "    .dataframe tbody tr th {\n",
       "        vertical-align: top;\n",
       "    }\n",
       "\n",
       "    .dataframe thead th {\n",
       "        text-align: right;\n",
       "    }\n",
       "</style>\n",
       "<table border=\"1\" class=\"dataframe\">\n",
       "  <thead>\n",
       "    <tr style=\"text-align: right;\">\n",
       "      <th></th>\n",
       "      <th>Pclass</th>\n",
       "      <th>Sex</th>\n",
       "      <th>Age</th>\n",
       "      <th>SibSp</th>\n",
       "      <th>Parch</th>\n",
       "    </tr>\n",
       "  </thead>\n",
       "  <tbody>\n",
       "    <tr>\n",
       "      <th>0</th>\n",
       "      <td>3</td>\n",
       "      <td>0</td>\n",
       "      <td>22.0</td>\n",
       "      <td>1</td>\n",
       "      <td>0</td>\n",
       "    </tr>\n",
       "    <tr>\n",
       "      <th>1</th>\n",
       "      <td>1</td>\n",
       "      <td>1</td>\n",
       "      <td>38.0</td>\n",
       "      <td>1</td>\n",
       "      <td>0</td>\n",
       "    </tr>\n",
       "    <tr>\n",
       "      <th>2</th>\n",
       "      <td>3</td>\n",
       "      <td>1</td>\n",
       "      <td>26.0</td>\n",
       "      <td>0</td>\n",
       "      <td>0</td>\n",
       "    </tr>\n",
       "    <tr>\n",
       "      <th>3</th>\n",
       "      <td>1</td>\n",
       "      <td>1</td>\n",
       "      <td>35.0</td>\n",
       "      <td>1</td>\n",
       "      <td>0</td>\n",
       "    </tr>\n",
       "    <tr>\n",
       "      <th>4</th>\n",
       "      <td>3</td>\n",
       "      <td>0</td>\n",
       "      <td>35.0</td>\n",
       "      <td>0</td>\n",
       "      <td>0</td>\n",
       "    </tr>\n",
       "  </tbody>\n",
       "</table>\n",
       "</div>"
      ],
      "text/plain": [
       "   Pclass Sex   Age  SibSp  Parch\n",
       "0       3   0  22.0      1      0\n",
       "1       1   1  38.0      1      0\n",
       "2       3   1  26.0      0      0\n",
       "3       1   1  35.0      1      0\n",
       "4       3   0  35.0      0      0"
      ]
     },
     "execution_count": 4,
     "metadata": {},
     "output_type": "execute_result"
    }
   ],
   "source": [
    "data.dropna(subset=['Age'], inplace=True) #This will drop any corresponding row that has the age of 'NaN'\n",
    "\n",
    "#males will be zero\n",
    "#females will be 1\n",
    "data.loc[data[\"Sex\"] == \"male\", \"Sex\"] = 0\n",
    "data.loc[data[\"Sex\"] == \"female\", \"Sex\"] = 1\n",
    "\n",
    "\n",
    "# dropping multiple rows that arent relevant\n",
    "features = data.drop([ 'PassengerId', 'Name', 'Ticket', 'Fare', 'Embarked', 'Cabin', 'Survived'], axis=1) \n",
    "# this our target end result, we want the learning model to learn and train, and once it makes a prediction, we will show the expected result\n",
    "labels = data['Survived'] \n",
    "features.head()"
   ]
  },
  {
   "cell_type": "markdown",
   "metadata": {},
   "source": [
    "### 3. Standardizing and Scaling our data\n",
    "\n",
    "- 'Standardize' is a concept to ensure all dataset features is normalized, ensuring all features contribute equally to the result, prevents bias\n",
    "\n",
    "- 'Scaling' (aka normalization) adjusts the dataset to a range between 0 and 1. The purpose is to make sure all features are on the same scale, prevents weights being stronger than the other, making the machine learn better"
   ]
  },
  {
   "cell_type": "code",
   "execution_count": null,
   "metadata": {},
   "outputs": [],
   "source": [
    "from sklearn.preprocessing import StandardScaler\n",
    "from sklearn.model_selection import train_test_split\n",
    "\n",
    "#Standardize, then Scale\n",
    "scaler = StandardScaler()\n",
    "scaled_features = scaler.fit_transform(features)"
   ]
  },
  {
   "cell_type": "markdown",
   "metadata": {},
   "source": [
    "### 4. Creating our data set\n",
    "\n",
    "- We will be splitting our data into two sections, training tests and testing sets.\n",
    "\n",
    "- Training sets allows the model to try to find patterns and predict what the output would it be, testing sets evaluates the final performance.\n",
    "\n",
    "- scaled_features: this is the dataset that is scaled containing the features that we want to train our model. \n",
    "\n",
    "- target: 1D array containing what we are targetting from the features (the end result we want)\n",
    "\n",
    "- test_size=0.2: specfies what the porpotion of the data to include in the testing set, which is 20%, while 80% will be for training set\n",
    "\n",
    "- random_state=42: This sets a seed for the random number generator. usually its 0 or 42."
   ]
  },
  {
   "cell_type": "code",
   "execution_count": null,
   "metadata": {},
   "outputs": [],
   "source": [
    "from torch import tensor\n",
    "import torch\n",
    "\n",
    "#Training and Testing Batches\n",
    "from torch.utils.data import DataLoader, TensorDataset\n",
    "\n",
    "#we have two batches, x and y                       \n",
    "x_train, x_test, y_train, y_test = train_test_split(scaled_features, target, test_size=0.2, random_state=42) \n",
    "training_set = TensorDataset(x_train, y_train)\n",
    "testing_set = TensorDataset(x_test, y_test)\n",
    "\n",
    "#converts the testing batches to be tensors for the machine learning\n",
    "x_train = tensor(x_train, dtype=torch.float32)\n",
    "x_test = tensor(x_test, dtype=torch.float32)\n",
    "y_train = tensor(x_train, dtype=torch.float32)\n",
    "y_test = tensor(y_test, dtype=torch.float32)\n",
    "\n",
    "training_loader = DataLoader(training_set, batch_size=32, shuffle=True)\n",
    "testing_loader = DataLoader(testing_set, batch_size=32, shuffle=False)\n",
    "\n"
   ]
  },
  {
   "cell_type": "markdown",
   "metadata": {},
   "source": [
    "### 5. Building the Model \n",
    "- We will create a model that will find patterns of our attributes, passed as neurons, and decide the final output if the person is alive or not.\n",
    "\n",
    "\n",
    "###### What are Weights and Biases?\n",
    "\n",
    "**WEIGHT**\n",
    "\n",
    "- Before a neuron is created, a randomize weight value is applied to each feature, some features may have more weight, like 'Age' could affect the survivability more than just 'gender' \n",
    "\n",
    "**BIASES**\n",
    "- Biases are for the machine to help identify and find patterns in neurons to the end result that are not linearly related to the features\n",
    "\n",
    "- For instance, biases can represent the model's inclination or prior belief towards one class over another."
   ]
  },
  {
   "cell_type": "code",
   "execution_count": null,
   "metadata": {},
   "outputs": [],
   "source": [
    "from torch import nn as nn; \n",
    "\n",
    "class BinaryModel(nn.Module): #we are calling it a binary model because we are simply checking 2 things, nothing more nothing less, binary (survived, not survived)\n",
    "    def __init__(self):\n",
    "        super(BinaryModel, self).__init__() #this binaryModel class is a child of the nn module class, we want to use their attributes for this class (nn contains lots of calculations and funcs that we want to utilize for our learning model)\n",
    "        self.linear1 = nn.Linear(5, 7) #takes 5 of the features, and transforms to a tensor of 7, each neuron has a randomize weight for each feature, some features may 'weigh'/more influence more than others, but at random\n",
    "        self.linear2 = nn.Linear(7, 4)\n",
    "        self.linear3 = nn.Linear(4, 1)\n",
    "        self.activation = nn.Sigmoid() #sigmoid handles only 1 neuron, provides and output between 0 and 1\n",
    "\n",
    "            \n",
    "    def forward(self, x):\n",
    "        x = self.linear1(x) #x is the input/features\n",
    "        x = self.linear2(x) \n",
    "        x = self.linear3(x)\n",
    "        x = self.activation(x) \n",
    "\n",
    "model = BinaryModel()"
   ]
  }
 ],
 "metadata": {
  "kernelspec": {
   "display_name": ".lmev",
   "language": "python",
   "name": "python3"
  },
  "language_info": {
   "codemirror_mode": {
    "name": "ipython",
    "version": 3
   },
   "file_extension": ".py",
   "mimetype": "text/x-python",
   "name": "python",
   "nbconvert_exporter": "python",
   "pygments_lexer": "ipython3",
   "version": "3.12.3"
  }
 },
 "nbformat": 4,
 "nbformat_minor": 2
}
