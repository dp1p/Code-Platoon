{
 "cells": [
  {
   "cell_type": "markdown",
   "metadata": {},
   "source": [
    "## Water Potability Model\n",
    "\n",
    "- using nn module from pytorch to instaniate a sequential model to solve a binary problem \n",
    "- binary problem takes in 9 attributes about water and does sequential calculations to get the sigmoid\n",
    "- sigmoid is the binary func that describes if the water is pottable or not pottable\n",
    "\n",
    "make sure to install pytorch "
   ]
  },
  {
   "cell_type": "code",
   "execution_count": 2,
   "metadata": {},
   "outputs": [],
   "source": [
    "#tensors are essentially inputs to give the LM to use\n",
    "#LM determines how to use that through NN / deep learning\n",
    "\n",
    "\n",
    "from torch import nn as nn;\n",
    "import pandas as pd\n",
    "\n",
    "class BinaryMethod(nn.Module): # inherits from the nn.Module module\n",
    "    def __init__(self): # intiliaze the class\n",
    "        super(BinaryMethod, self).__init__() # what is purpose of super??? ?????\n",
    "        self.linear1 = nn.Linear(9, 7) # calculation 1 of the sequence\n",
    "        self.linear2 = nn.Linear(7,4) # calculation 2 of the sequence\n",
    "        self.linear3 = nn.Linear(4,1) # calculation 3 of the sequence\n",
    "        self.activation = nn.Sigmoid() #sigmoid aka the final binary output of the sequence\n",
    "    \n",
    "    def forward(self, x):\n",
    "        x = self.linear1(x) #x is the input tensor\n",
    "        x = self.linear2(x) \n",
    "        x = self.linear3(x)\n",
    "        x = self.activation(x) \n",
    "        return x\n",
    "\n",
    "model = BinaryMethod()\n"
   ]
  },
  {
   "cell_type": "markdown",
   "metadata": {},
   "source": [
    "### Import the Data\n",
    "\n",
    "- Utilizing Pandas Package to read our csv files (our data) easily\n",
    "- command `pip install pandas`"
   ]
  },
  {
   "cell_type": "code",
   "execution_count": 4,
   "metadata": {},
   "outputs": [
    {
     "data": {
      "text/plain": [
       "ph                 491\n",
       "Hardness             0\n",
       "Solids               0\n",
       "Chloramines          0\n",
       "Sulfate            781\n",
       "Conductivity         0\n",
       "Organic_carbon       0\n",
       "Trihalomethanes    162\n",
       "Turbidity            0\n",
       "Potability           0\n",
       "dtype: int64"
      ]
     },
     "execution_count": 4,
     "metadata": {},
     "output_type": "execute_result"
    }
   ],
   "source": [
    "#Loading the data\n",
    "\n",
    "data = pd.read_csv('water_potability.csv')\n",
    "data.isnull().sum()\n",
    "#data.fillna(data.mean(), inplace=True) #fills anything that has no value, aka NaN, we will fill it with the mean of the column\n",
    "#data.head()"
   ]
  },
  {
   "cell_type": "markdown",
   "metadata": {},
   "source": [
    "### We separate our data\n",
    "\n",
    "- we want to separate our end result, 'Potability', from our features that makes water potable. "
   ]
  },
  {
   "cell_type": "code",
   "execution_count": null,
   "metadata": {},
   "outputs": [],
   "source": [
    "features = data.drop('Potability', axis=1) #we are dropping potability because that is our end result\n",
    "target = data['Potability'] # our target is the water_potability "
   ]
  }
 ],
 "metadata": {
  "kernelspec": {
   "display_name": ".lmev",
   "language": "python",
   "name": "python3"
  },
  "language_info": {
   "codemirror_mode": {
    "name": "ipython",
    "version": 3
   },
   "file_extension": ".py",
   "mimetype": "text/x-python",
   "name": "python",
   "nbconvert_exporter": "python",
   "pygments_lexer": "ipython3",
   "version": "3.12.3"
  }
 },
 "nbformat": 4,
 "nbformat_minor": 2
}
