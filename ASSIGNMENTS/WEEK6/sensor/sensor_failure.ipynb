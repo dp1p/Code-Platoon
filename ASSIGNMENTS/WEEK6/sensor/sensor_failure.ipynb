{
 "cells": [
  {
   "cell_type": "markdown",
   "metadata": {},
   "source": [
    "### Machine Sensor Failure Learning Model\n",
    "- We will make a model to determine if a machine fails with several factors"
   ]
  },
  {
   "cell_type": "code",
   "execution_count": 1,
   "metadata": {},
   "outputs": [],
   "source": [
    "from torch import nn as nn #importing neural network\n",
    "\n",
    "class BinaryMethod(nn.Module): # inherits from the nn.Module module\n",
    "    def __init__(self): # intiliaze the class\n",
    "        super(BinaryMethod, self).__init__()\n",
    "        self.linear1 = nn.Linear(9, 7) # calculation 1 of the sequence, will take 9 attributes, and will output 7\n",
    "        self.linear2 = nn.Linear(7,4) # calculation 2 of the sequence\n",
    "        self.linear3 = nn.Linear(4,1) # calculation 3 of the sequence\n",
    "        self.activation = nn.Sigmoid() #sigmoid aka the final binary output of the sequence\n",
    "    \n",
    "    def forward(self, x):\n",
    "        x = self.linear1(x) #x is the input tensor\n",
    "        x = self.linear2(x) \n",
    "        x = self.linear3(x)\n",
    "        x = self.activation(x) \n",
    "        return x\n",
    "\n",
    "model = BinaryMethod()"
   ]
  },
  {
   "cell_type": "markdown",
   "metadata": {},
   "source": [
    "### Importing our data\n",
    "- Utilizing 'Pandas' Package to read our csv files (our data)\n",
    "- command is `pip install pandas`"
   ]
  },
  {
   "cell_type": "code",
   "execution_count": 4,
   "metadata": {},
   "outputs": [
    {
     "data": {
      "text/plain": [
       "footfall       0\n",
       "tempMode       0\n",
       "AQ             0\n",
       "USS            0\n",
       "CS             0\n",
       "VOC            0\n",
       "RP             0\n",
       "IP             0\n",
       "Temperature    0\n",
       "fail           0\n",
       "dtype: int64"
      ]
     },
     "execution_count": 4,
     "metadata": {},
     "output_type": "execute_result"
    }
   ],
   "source": [
    "import pandas as pd\n",
    "\n",
    "data = pd.read_csv('machine_failure.csv')"
   ]
  },
  {
   "cell_type": "markdown",
   "metadata": {},
   "source": [
    "### Separating our data\n",
    "- When it comes for the learning model to make accurate predictions of if a machine is failing to several factors...\n",
    "- we need to separate our end result (thats in the CSV file) from the features that make a machine fail or not"
   ]
  },
  {
   "cell_type": "code",
   "execution_count": null,
   "metadata": {},
   "outputs": [],
   "source": [
    "features = data.drop('fail', axis=1) #dropping 'fail' because this is what we want the learning module to predict\n",
    "target = data('fail') #our target result is 'fail'"
   ]
  },
  {
   "cell_type": "code",
   "execution_count": null,
   "metadata": {},
   "outputs": [],
   "source": []
  }
 ],
 "metadata": {
  "kernelspec": {
   "display_name": ".lmev",
   "language": "python",
   "name": "python3"
  },
  "language_info": {
   "codemirror_mode": {
    "name": "ipython",
    "version": 3
   },
   "file_extension": ".py",
   "mimetype": "text/x-python",
   "name": "python",
   "nbconvert_exporter": "python",
   "pygments_lexer": "ipython3",
   "version": "3.12.3"
  }
 },
 "nbformat": 4,
 "nbformat_minor": 2
}
