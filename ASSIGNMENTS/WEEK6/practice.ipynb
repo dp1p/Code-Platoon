{
 "cells": [
  {
   "cell_type": "markdown",
   "metadata": {},
   "source": [
    "### First AI BINARY MODEL! \n",
    "\n",
    "## SEQUENTIAL"
   ]
  },
  {
   "cell_type": "code",
   "execution_count": 1,
   "metadata": {},
   "outputs": [],
   "source": [
    "from torch import nn as nn;\n",
    "#This is for simplifying creating a model, toy model\n",
    "#Less flexible \n",
    "model = nn.Sequential(\n",
    "    nn.Linear(3,2), \n",
    "    nn.Linear(2,1),\n",
    "    nn.Sigmoid()\n",
    ")\n",
    "\n",
    "#tensors are essentially inputs to give the LM to use\n",
    "#LM determines how to use that through NN / deep learning"
   ]
  },
  {
   "cell_type": "markdown",
   "metadata": {},
   "source": [
    "## BINARY"
   ]
  },
  {
   "cell_type": "code",
   "execution_count": null,
   "metadata": {},
   "outputs": [],
   "source": [
    "class BinaryModel(nn.Module):\n",
    "    def __init__(self):\n",
    "        super(BinaryModel, self).__init__()\n",
    "        self.linear1 = nn.Linear(100,99)\n",
    "        self.linear2 = nn.Linear(99,98)\n",
    "        self.linear2 = nn.Linear(99,97)\n",
    "        ...\n",
    "        self.sigmond = nn.Sigmoid()"
   ]
  }
 ],
 "metadata": {
  "kernelspec": {
   "display_name": ".lmev",
   "language": "python",
   "name": "python3"
  },
  "language_info": {
   "codemirror_mode": {
    "name": "ipython",
    "version": 3
   },
   "file_extension": ".py",
   "mimetype": "text/x-python",
   "name": "python",
   "nbconvert_exporter": "python",
   "pygments_lexer": "ipython3",
   "version": "3.12.3"
  }
 },
 "nbformat": 4,
 "nbformat_minor": 2
}
